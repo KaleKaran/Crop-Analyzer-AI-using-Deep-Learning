{
 "cells": [
  {
   "cell_type": "code",
   "execution_count": 60,
   "metadata": {
    "collapsed": true,
    "ExecuteTime": {
     "end_time": "2024-04-01T18:42:58.020378600Z",
     "start_time": "2024-04-01T18:42:58.008809800Z"
    }
   },
   "outputs": [],
   "source": [
    "import os\n",
    "from keras.preprocessing.image import ImageDataGenerator\n",
    "from keras.models import Sequential\n",
    "from keras.layers import Conv2D, MaxPooling2D, Flatten, Dense\n",
    "from keras.callbacks import ModelCheckpoint\n",
    "from sklearn.metrics import confusion_matrix, classification_report\n",
    "import numpy as np\n",
    "import matplotlib.pyplot as plt\n",
    "import seaborn as sns"
   ]
  },
  {
   "cell_type": "code",
   "execution_count": 49,
   "outputs": [
    {
     "name": "stdout",
     "output_type": "stream",
     "text": [
      "Number of healthy leaf images in training set: 458\n",
      "Number of powdery leaf images in training set: 430\n",
      "Number of rusty leaf images in training set: 434\n"
     ]
    }
   ],
   "source": [
    "# Function to count total files in a folder\n",
    "def total_files(folder_path):\n",
    "    num_files = len([f for f in os.listdir(folder_path) if os.path.isfile(os.path.join(folder_path, f))])\n",
    "    return num_files\n",
    "\n",
    "# Define paths for training, testing, and validation datasets\n",
    "train_files_healthy = \"B:/VESP/CPP_Last_Try/Rhamnus davurica/Dataset/Train/Train/Healthy\"\n",
    "train_files_powdery = \"B:/VESP/CPP_Last_Try/Rhamnus davurica/Dataset/Train/Train/Powdery\"\n",
    "train_files_rust = \"B:/VESP/CPP_Last_Try/Rhamnus davurica/Dataset/Train/Train/Rust\"\n",
    "\n",
    "test_files_healthy = \"B:/VESP/CPP_Last_Try/Rhamnus davurica/Dataset/Test/Test/Healthy\"\n",
    "test_files_powdery = \"B:/VESP/CPP_Last_Try/Rhamnus davurica/Dataset/Test/Test/Powdery\"\n",
    "test_files_rust = \"B:/VESP/CPP_Last_Try/Rhamnus davurica/Dataset/Test/Test/Rust\"\n",
    "\n",
    "valid_files_healthy = \"B:/VESP/CPP_Last_Try/Rhamnus davurica/Dataset/Validation/Validation/Healthy\"\n",
    "valid_files_powdery = \"B:/VESP/CPP_Last_Try/Rhamnus davurica/Dataset/Validation/Validation/Powdery\"\n",
    "valid_files_rust = \"B:/VESP/CPP_Last_Try/Rhamnus davurica/Dataset/Validation/Validation/Rust\"\n",
    "\n",
    "# Print number of files in each category\n",
    "print(\"Number of healthy leaf images in training set:\", total_files(train_files_healthy))\n",
    "print(\"Number of powdery leaf images in training set:\", total_files(train_files_powdery))\n",
    "print(\"Number of rusty leaf images in training set:\", total_files(train_files_rust))"
   ],
   "metadata": {
    "collapsed": false,
    "ExecuteTime": {
     "end_time": "2024-04-01T17:32:13.086502900Z",
     "start_time": "2024-04-01T17:32:13.028281300Z"
    }
   }
  },
  {
   "cell_type": "code",
   "execution_count": 50,
   "outputs": [],
   "source": [
    "# Define data augmentation parameters\n",
    "train_datagen = ImageDataGenerator(\n",
    "    rescale=1./255,\n",
    "    rotation_range=45,\n",
    "    width_shift_range=0.2,\n",
    "    height_shift_range=0.2,\n",
    "    shear_range=0.2,\n",
    "    zoom_range=0.2,\n",
    "    horizontal_flip=True,\n",
    ")\n",
    "\n",
    "test_datagen = ImageDataGenerator(rescale=1./255)"
   ],
   "metadata": {
    "collapsed": false,
    "ExecuteTime": {
     "end_time": "2024-04-01T17:32:14.988040100Z",
     "start_time": "2024-04-01T17:32:14.963501700Z"
    }
   }
  },
  {
   "cell_type": "code",
   "execution_count": 51,
   "outputs": [
    {
     "name": "stdout",
     "output_type": "stream",
     "text": [
      "Found 1322 images belonging to 3 classes.\n"
     ]
    }
   ],
   "source": [
    "# Generate augmented images and save to disk for training\n",
    "augmented_train_dir = \"B:/VESP/CPP_Last_Try/Rhamnus davurica/Dataset/t_aug\"\n",
    "train_generator = train_datagen.flow_from_directory(\n",
    "    train_dir,\n",
    "    target_size=(225, 225),\n",
    "    batch_size=32,\n",
    "    class_mode='categorical',\n",
    "    save_to_dir=augmented_train_dir,\n",
    "    save_prefix='aug_',\n",
    "    save_format='jpg'\n",
    ")"
   ],
   "metadata": {
    "collapsed": false,
    "ExecuteTime": {
     "end_time": "2024-04-01T17:32:23.287571900Z",
     "start_time": "2024-04-01T17:32:23.224230500Z"
    }
   }
  },
  {
   "cell_type": "code",
   "execution_count": 52,
   "outputs": [
    {
     "name": "stdout",
     "output_type": "stream",
     "text": [
      "Found 60 images belonging to 3 classes.\n"
     ]
    }
   ],
   "source": [
    "# Generate augmented images and save to disk for validation\n",
    "augmented_validation_dir = \"B:/VESP/CPP_Last_Try/Rhamnus davurica/Dataset/v_aug\"\n",
    "validation_generator = test_datagen.flow_from_directory(\n",
    "    validation_dir,\n",
    "    target_size=(225, 225),\n",
    "    batch_size=32,\n",
    "    class_mode='categorical',\n",
    "    save_to_dir=augmented_validation_dir,\n",
    "    save_prefix='aug_',\n",
    "    save_format='jpg'\n",
    ")"
   ],
   "metadata": {
    "collapsed": false,
    "ExecuteTime": {
     "end_time": "2024-04-01T17:32:25.204047200Z",
     "start_time": "2024-04-01T17:32:25.186378800Z"
    }
   }
  },
  {
   "cell_type": "code",
   "execution_count": 53,
   "outputs": [],
   "source": [
    "# Constructing the CNN model with 3 convolutional layers\n",
    "model = Sequential()\n",
    "model.add(Conv2D(32, (3, 3), input_shape=(225, 225, 3), activation='relu'))\n",
    "model.add(MaxPooling2D(pool_size=(2, 2)))\n",
    "model.add(Conv2D(64, (3, 3), activation='relu'))\n",
    "model.add(MaxPooling2D(pool_size=(2, 2)))\n",
    "model.add(Conv2D(128, (3, 3), activation='relu'))\n",
    "model.add(MaxPooling2D(pool_size=(2, 2)))\n",
    "model.add(Flatten())\n",
    "model.add(Dense(64, activation='relu'))\n",
    "model.add(Dense(3, activation='softmax'))"
   ],
   "metadata": {
    "collapsed": false,
    "ExecuteTime": {
     "end_time": "2024-04-01T17:32:26.464234100Z",
     "start_time": "2024-04-01T17:32:26.375004500Z"
    }
   }
  },
  {
   "cell_type": "code",
   "execution_count": 54,
   "outputs": [],
   "source": [
    "# Compile the model\n",
    "model.compile(optimizer='adam', loss='categorical_crossentropy', metrics=['accuracy'])"
   ],
   "metadata": {
    "collapsed": false,
    "ExecuteTime": {
     "end_time": "2024-04-01T17:32:37.328373300Z",
     "start_time": "2024-04-01T17:32:37.315715400Z"
    }
   }
  },
  {
   "cell_type": "code",
   "execution_count": 55,
   "outputs": [],
   "source": [
    "# Define callbacks for saving the best model during training\n",
    "checkpoint = ModelCheckpoint(\"best_model.h5\", monitor='val_accuracy', verbose=1, save_best_only=True)"
   ],
   "metadata": {
    "collapsed": false,
    "ExecuteTime": {
     "end_time": "2024-04-01T17:32:39.215316Z",
     "start_time": "2024-04-01T17:32:39.208299800Z"
    }
   }
  },
  {
   "cell_type": "code",
   "execution_count": 56,
   "outputs": [
    {
     "name": "stdout",
     "output_type": "stream",
     "text": [
      "[name: \"/device:CPU:0\"\n",
      "device_type: \"CPU\"\n",
      "memory_limit: 268435456\n",
      "locality {\n",
      "}\n",
      "incarnation: 17217904123025246872\n",
      "xla_global_id: -1\n",
      ", name: \"/device:GPU:0\"\n",
      "device_type: \"GPU\"\n",
      "memory_limit: 5682233344\n",
      "locality {\n",
      "  bus_id: 1\n",
      "  links {\n",
      "  }\n",
      "}\n",
      "incarnation: 2182466540115629951\n",
      "physical_device_desc: \"device: 0, name: NVIDIA GeForce RTX 4060 Ti, pci bus id: 0000:01:00.0, compute capability: 8.9\"\n",
      "xla_global_id: 416903419\n",
      "]\n"
     ]
    }
   ],
   "source": [
    "from tensorflow.python.client import device_lib\n",
    "print(device_lib.list_local_devices())"
   ],
   "metadata": {
    "collapsed": false,
    "ExecuteTime": {
     "end_time": "2024-04-01T17:32:41.934247300Z",
     "start_time": "2024-04-01T17:32:41.875247900Z"
    }
   }
  },
  {
   "cell_type": "code",
   "execution_count": 57,
   "outputs": [
    {
     "name": "stdout",
     "output_type": "stream",
     "text": [
      "Epoch 1/20\n",
      "42/42 [==============================] - ETA: 0s - loss: 1.0900 - accuracy: 0.4690\n",
      "Epoch 1: val_accuracy improved from -inf to 0.56667, saving model to best_model.h5\n",
      "42/42 [==============================] - 57s 1s/step - loss: 1.0900 - accuracy: 0.4690 - val_loss: 0.8581 - val_accuracy: 0.5667\n",
      "Epoch 2/20\n",
      "42/42 [==============================] - ETA: 0s - loss: 0.8591 - accuracy: 0.5711\n",
      "Epoch 2: val_accuracy improved from 0.56667 to 0.73333, saving model to best_model.h5\n",
      "42/42 [==============================] - 55s 1s/step - loss: 0.8591 - accuracy: 0.5711 - val_loss: 0.6596 - val_accuracy: 0.7333\n",
      "Epoch 3/20\n",
      "42/42 [==============================] - ETA: 0s - loss: 0.6344 - accuracy: 0.7307\n",
      "Epoch 3: val_accuracy improved from 0.73333 to 0.80000, saving model to best_model.h5\n",
      "42/42 [==============================] - 55s 1s/step - loss: 0.6344 - accuracy: 0.7307 - val_loss: 0.4912 - val_accuracy: 0.8000\n",
      "Epoch 4/20\n",
      "42/42 [==============================] - ETA: 0s - loss: 0.4320 - accuracy: 0.8623\n",
      "Epoch 4: val_accuracy improved from 0.80000 to 0.85000, saving model to best_model.h5\n",
      "42/42 [==============================] - 55s 1s/step - loss: 0.4320 - accuracy: 0.8623 - val_loss: 0.5263 - val_accuracy: 0.8500\n",
      "Epoch 5/20\n",
      "42/42 [==============================] - ETA: 0s - loss: 0.4148 - accuracy: 0.8510\n",
      "Epoch 5: val_accuracy did not improve from 0.85000\n",
      "42/42 [==============================] - 55s 1s/step - loss: 0.4148 - accuracy: 0.8510 - val_loss: 0.4170 - val_accuracy: 0.8000\n",
      "Epoch 6/20\n",
      "42/42 [==============================] - ETA: 0s - loss: 0.3353 - accuracy: 0.8767\n",
      "Epoch 6: val_accuracy did not improve from 0.85000\n",
      "42/42 [==============================] - 55s 1s/step - loss: 0.3353 - accuracy: 0.8767 - val_loss: 0.4650 - val_accuracy: 0.8333\n",
      "Epoch 7/20\n",
      "42/42 [==============================] - ETA: 0s - loss: 0.2920 - accuracy: 0.9047\n",
      "Epoch 7: val_accuracy improved from 0.85000 to 0.91667, saving model to best_model.h5\n",
      "42/42 [==============================] - 56s 1s/step - loss: 0.2920 - accuracy: 0.9047 - val_loss: 0.3455 - val_accuracy: 0.9167\n",
      "Epoch 8/20\n",
      "42/42 [==============================] - ETA: 0s - loss: 0.2946 - accuracy: 0.9032\n",
      "Epoch 8: val_accuracy improved from 0.91667 to 0.93333, saving model to best_model.h5\n",
      "42/42 [==============================] - 55s 1s/step - loss: 0.2946 - accuracy: 0.9032 - val_loss: 0.2783 - val_accuracy: 0.9333\n",
      "Epoch 9/20\n",
      "42/42 [==============================] - ETA: 0s - loss: 0.2958 - accuracy: 0.9047\n",
      "Epoch 9: val_accuracy did not improve from 0.93333\n",
      "42/42 [==============================] - 55s 1s/step - loss: 0.2958 - accuracy: 0.9047 - val_loss: 0.2649 - val_accuracy: 0.8667\n",
      "Epoch 10/20\n",
      "42/42 [==============================] - ETA: 0s - loss: 0.3414 - accuracy: 0.8858\n",
      "Epoch 10: val_accuracy did not improve from 0.93333\n",
      "42/42 [==============================] - 57s 1s/step - loss: 0.3414 - accuracy: 0.8858 - val_loss: 0.5297 - val_accuracy: 0.8333\n",
      "Epoch 11/20\n",
      "42/42 [==============================] - ETA: 0s - loss: 0.2977 - accuracy: 0.9024\n",
      "Epoch 11: val_accuracy did not improve from 0.93333\n",
      "42/42 [==============================] - 100s 2s/step - loss: 0.2977 - accuracy: 0.9024 - val_loss: 0.5711 - val_accuracy: 0.8167\n",
      "Epoch 12/20\n",
      "42/42 [==============================] - ETA: 0s - loss: 0.2785 - accuracy: 0.9115\n",
      "Epoch 12: val_accuracy improved from 0.93333 to 0.95000, saving model to best_model.h5\n",
      "42/42 [==============================] - 61s 1s/step - loss: 0.2785 - accuracy: 0.9115 - val_loss: 0.2892 - val_accuracy: 0.9500\n",
      "Epoch 13/20\n",
      "42/42 [==============================] - ETA: 0s - loss: 0.2590 - accuracy: 0.9100\n",
      "Epoch 13: val_accuracy did not improve from 0.95000\n",
      "42/42 [==============================] - 56s 1s/step - loss: 0.2590 - accuracy: 0.9100 - val_loss: 0.1929 - val_accuracy: 0.9333\n",
      "Epoch 14/20\n",
      "42/42 [==============================] - ETA: 0s - loss: 0.3027 - accuracy: 0.8971\n",
      "Epoch 14: val_accuracy did not improve from 0.95000\n",
      "42/42 [==============================] - 55s 1s/step - loss: 0.3027 - accuracy: 0.8971 - val_loss: 0.3069 - val_accuracy: 0.9167\n",
      "Epoch 15/20\n",
      "42/42 [==============================] - ETA: 0s - loss: 0.2465 - accuracy: 0.9191\n",
      "Epoch 15: val_accuracy did not improve from 0.95000\n",
      "42/42 [==============================] - 57s 1s/step - loss: 0.2465 - accuracy: 0.9191 - val_loss: 0.2181 - val_accuracy: 0.9333\n",
      "Epoch 16/20\n",
      "42/42 [==============================] - ETA: 0s - loss: 0.2116 - accuracy: 0.9312\n",
      "Epoch 16: val_accuracy did not improve from 0.95000\n",
      "42/42 [==============================] - 60s 1s/step - loss: 0.2116 - accuracy: 0.9312 - val_loss: 0.2701 - val_accuracy: 0.9333\n",
      "Epoch 17/20\n",
      "42/42 [==============================] - ETA: 0s - loss: 0.2529 - accuracy: 0.9145\n",
      "Epoch 17: val_accuracy did not improve from 0.95000\n",
      "42/42 [==============================] - 62s 1s/step - loss: 0.2529 - accuracy: 0.9145 - val_loss: 0.2189 - val_accuracy: 0.9333\n",
      "Epoch 18/20\n",
      "42/42 [==============================] - ETA: 0s - loss: 0.1816 - accuracy: 0.9342\n",
      "Epoch 18: val_accuracy did not improve from 0.95000\n",
      "42/42 [==============================] - 60s 1s/step - loss: 0.1816 - accuracy: 0.9342 - val_loss: 0.2726 - val_accuracy: 0.9333\n",
      "Epoch 19/20\n",
      "42/42 [==============================] - ETA: 0s - loss: 0.1810 - accuracy: 0.9410\n",
      "Epoch 19: val_accuracy improved from 0.95000 to 0.96667, saving model to best_model.h5\n",
      "42/42 [==============================] - 60s 1s/step - loss: 0.1810 - accuracy: 0.9410 - val_loss: 0.1595 - val_accuracy: 0.9667\n",
      "Epoch 20/20\n",
      "42/42 [==============================] - ETA: 0s - loss: 0.2369 - accuracy: 0.9198\n",
      "Epoch 20: val_accuracy did not improve from 0.96667\n",
      "42/42 [==============================] - 59s 1s/step - loss: 0.2369 - accuracy: 0.9198 - val_loss: 0.1516 - val_accuracy: 0.9333\n"
     ]
    }
   ],
   "source": [
    "# Train the model with data augmentation\n",
    "history = model.fit(train_generator,\n",
    "                    steps_per_epoch=len(train_generator),\n",
    "                    epochs=20,\n",
    "                    validation_data=validation_generator,\n",
    "                    validation_steps=len(validation_generator),\n",
    "                    callbacks=[checkpoint])"
   ],
   "metadata": {
    "collapsed": false,
    "ExecuteTime": {
     "end_time": "2024-04-01T17:57:39.314258900Z",
     "start_time": "2024-04-01T17:37:52.599455300Z"
    }
   }
  },
  {
   "cell_type": "code",
   "execution_count": 58,
   "outputs": [
    {
     "name": "stdout",
     "output_type": "stream",
     "text": [
      "Found 150 images belonging to 3 classes.\n",
      "5/5 [==============================] - 8s 2s/step\n"
     ]
    }
   ],
   "source": [
    "# Evaluate the model on the test set\n",
    "test_generator = test_datagen.flow_from_directory(test_dir,\n",
    "                                                  target_size=(225, 225),\n",
    "                                                  batch_size=32,\n",
    "                                                  class_mode='categorical',\n",
    "                                                  shuffle=False)  # To preserve the order of predictions\n",
    "y_true = test_generator.classes\n",
    "y_pred = np.argmax(model.predict(test_generator), axis=-1)"
   ],
   "metadata": {
    "collapsed": false,
    "ExecuteTime": {
     "end_time": "2024-04-01T18:39:59.778071800Z",
     "start_time": "2024-04-01T18:39:49.937359100Z"
    }
   }
  },
  {
   "cell_type": "code",
   "execution_count": 61,
   "outputs": [],
   "source": [
    "#Generate confusion matrix and classification report\n",
    "conf_matrix = confusion_matrix(y_true, y_pred)\n",
    "class_names = list(test_generator.class_indices.keys())"
   ],
   "metadata": {
    "collapsed": false,
    "ExecuteTime": {
     "end_time": "2024-04-01T18:43:16.396669400Z",
     "start_time": "2024-04-01T18:43:16.385281700Z"
    }
   }
  },
  {
   "cell_type": "code",
   "execution_count": 62,
   "outputs": [
    {
     "data": {
      "text/plain": "<Figure size 800x600 with 1 Axes>",
      "image/png": "[encoded data removed]"
     },
     "metadata": {},
     "output_type": "display_data"
    }
   ],
   "source": [
    "# Plot confusion matrix\n",
    "plt.figure(figsize=(8, 6))\n",
    "sns.set(font_scale=1.2)\n",
    "sns.heatmap(conf_matrix, annot=True, fmt='d', cmap=\"Blues\", cbar=False,\n",
    "            xticklabels=class_names, yticklabels=class_names)\n",
    "plt.xlabel('Predicted Labels')\n",
    "plt.ylabel('True Labels')\n",
    "plt.title('Confusion Matrix')\n",
    "plt.xticks(rotation=45)\n",
    "plt.yticks(rotation=0)\n",
    "plt.show()"
   ],
   "metadata": {
    "collapsed": false,
    "ExecuteTime": {
     "end_time": "2024-04-01T18:43:23.661380100Z",
     "start_time": "2024-04-01T18:43:22.736280300Z"
    }
   }
  },
  {
   "cell_type": "code",
   "execution_count": 63,
   "outputs": [
    {
     "name": "stdout",
     "output_type": "stream",
     "text": [
      "Classification Report:\n",
      "              precision    recall  f1-score   support\n",
      "\n",
      "     Healthy       0.83      1.00      0.91        50\n",
      "     Powdery       1.00      0.84      0.91        50\n",
      "        Rust       1.00      0.96      0.98        50\n",
      "\n",
      "    accuracy                           0.93       150\n",
      "   macro avg       0.94      0.93      0.93       150\n",
      "weighted avg       0.94      0.93      0.93       150\n",
      "\n"
     ]
    }
   ],
   "source": [
    "# Generate classification report\n",
    "print(\"Classification Report:\")\n",
    "print(classification_report(y_true, y_pred, target_names=class_names))"
   ],
   "metadata": {
    "collapsed": false,
    "ExecuteTime": {
     "end_time": "2024-04-01T18:45:14.462408200Z",
     "start_time": "2024-04-01T18:45:14.423296100Z"
    }
   }
  },
  {
   "cell_type": "code",
   "execution_count": null,
   "outputs": [],
   "source": [],
   "metadata": {
    "collapsed": false
   }
  }
 ],
 "metadata": {
  "kernelspec": {
   "display_name": "Python 3",
   "language": "python",
   "name": "python3"
  },
  "language_info": {
   "codemirror_mode": {
    "name": "ipython",
    "version": 2
   },
   "file_extension": ".py",
   "mimetype": "text/x-python",
   "name": "python",
   "nbconvert_exporter": "python",
   "pygments_lexer": "ipython2",
   "version": "2.7.6"
  }
 },
 "nbformat": 4,
 "nbformat_minor": 0
}
